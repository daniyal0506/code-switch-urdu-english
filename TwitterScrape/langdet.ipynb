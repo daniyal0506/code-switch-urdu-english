{
 "cells": [
  {
   "cell_type": "code",
   "execution_count": 21,
   "metadata": {},
   "outputs": [],
   "source": [
    "from nltk.util import bigrams\n",
    "import csv\n",
    "import string\n",
    "\n",
    "# reading in data\n",
    "\n",
    "with open('RomanUrduDataSet.csv', newline='', encoding = \"utf-8\") as f:\n",
    "    reader = csv.reader(f)\n",
    "    data_one = list(reader)\n",
    "    \n",
    "with open(\"crowd_transliterations.hi-en.txt\", newline='', encoding = \"utf-8\") as f:\n",
    "    line = csv.reader(f)\n",
    "    data_two = list(line)"
   ]
  },
  {
   "cell_type": "code",
   "execution_count": 22,
   "metadata": {},
   "outputs": [],
   "source": [
    "# cleaning up data set #1\n",
    "\n",
    "data_list = [] # list with both data sets\n",
    "\n",
    "for line in data_one:\n",
    "    line.pop()\n",
    "    for item in line:\n",
    "        if item == \"Positive\" or item == \"Negative\" or item == \"Neutral\":\n",
    "            line.remove(item)\n",
    "\n",
    "for line in data_one:\n",
    "    for item in line:\n",
    "        temp_list = []\n",
    "        temp_list = item.split(\" \")\n",
    "\n",
    "        for i in range(len(temp_list)):\n",
    "            temp_list[i] = temp_list[i].lower()\n",
    "\n",
    "        data_list.append(temp_list)\n",
    "        "
   ]
  },
  {
   "cell_type": "code",
   "execution_count": 23,
   "metadata": {},
   "outputs": [],
   "source": [
    "#cleaning up data set #2\n",
    "\n",
    "for line in data_two:\n",
    "    for item in line:\n",
    "        temp_list = []\n",
    "        temp_list = item.split(\"\\t\")\n",
    "        temp_list.pop()\n",
    "\n",
    "        for i in range(len(temp_list)):\n",
    "            temp_list[i] = temp_list[i].lower()\n",
    "        \n",
    "        data_list.append(temp_list)"
   ]
  },
  {
   "cell_type": "code",
   "execution_count": 24,
   "metadata": {},
   "outputs": [],
   "source": [
    "#setting up training set\n",
    "\n",
    "from nltk.util import bigrams\n",
    "from nltk.lm.preprocessing import padded_everygram_pipeline\n",
    "from nltk.lm import MLE\n",
    "\n",
    "train, vocab = padded_everygram_pipeline(1, data_list)\n",
    "\n",
    "lm = MLE(2)\n",
    "lm.fit(train, vocab)"
   ]
  },
  {
   "cell_type": "code",
   "execution_count": 25,
   "metadata": {},
   "outputs": [],
   "source": [
    "# used in main file to check the MLE score of a specific word\n",
    "\n",
    "def score_checker(word):\n",
    "    \n",
    "    return abs(lm.logscore(word)) "
   ]
  },
  {
   "cell_type": "code",
   "execution_count": 26,
   "metadata": {},
   "outputs": [],
   "source": [
    "#establishing thresholds\n",
    "\n",
    "urdu_test_words = [\"aasan\", \"mushkil\", \"acha\", \"bura\", \"hain\" , \"baat\",\"kahan\", \"bachay\", \"waqt\", \"mein\"] # randomly selected urdu words\n",
    "english_test_words = [\"easy\", \"hard\", \"good\", \"bad\", \"look\", \"cool\", \"under\", \"head\", \"wait\", \"time\"] # randomly selected english words\n",
    "\n",
    "urdu_scores = {}\n",
    "english_scores = {}\n",
    "\n",
    "for item in urdu_test_words:\n",
    "    urdu_scores[item] = abs(lm.logscore(item)) # logscore is calculate to avoid small numbers. Absolute value is taken as it is easier to work with positive numbers\n",
    "\n",
    "for item in english_test_words:\n",
    "    english_scores[item] = abs(lm.logscore(item))"
   ]
  },
  {
   "cell_type": "code",
   "execution_count": 27,
   "metadata": {},
   "outputs": [],
   "source": [
    "for item in urdu_scores:\n",
    "    urdu_avg_score = sum(urdu_scores.values())/len(urdu_scores)\n",
    "\n",
    "for item in english_scores:\n",
    "    english_avg_score = sum(english_scores.values())/len(english_scores)"
   ]
  },
  {
   "cell_type": "code",
   "execution_count": 28,
   "metadata": {},
   "outputs": [
    {
     "data": {
      "text/plain": [
       "13.840666318068847"
      ]
     },
     "execution_count": 28,
     "metadata": {},
     "output_type": "execute_result"
    }
   ],
   "source": [
    "english_avg_score"
   ]
  },
  {
   "cell_type": "code",
   "execution_count": 29,
   "metadata": {},
   "outputs": [
    {
     "data": {
      "text/plain": [
       "10.93738402352499"
      ]
     },
     "execution_count": 29,
     "metadata": {},
     "output_type": "execute_result"
    }
   ],
   "source": [
    "urdu_avg_score"
   ]
  },
  {
   "cell_type": "code",
   "execution_count": 30,
   "metadata": {},
   "outputs": [
    {
     "data": {
      "text/plain": [
       "12.389025170796918"
      ]
     },
     "execution_count": 30,
     "metadata": {},
     "output_type": "execute_result"
    }
   ],
   "source": [
    "# the average of the two is taken and is established as the threshold number\n",
    "\n",
    "threshold_num = (urdu_avg_score + english_avg_score) / 2 \n",
    "\n",
    "threshold_num"
   ]
  }
 ],
 "metadata": {
  "kernelspec": {
   "display_name": "Python 3.9.13 64-bit (windows store)",
   "language": "python",
   "name": "python3"
  },
  "language_info": {
   "codemirror_mode": {
    "name": "ipython",
    "version": 3
   },
   "file_extension": ".py",
   "mimetype": "text/x-python",
   "name": "python",
   "nbconvert_exporter": "python",
   "pygments_lexer": "ipython3",
   "version": "3.9.13"
  },
  "orig_nbformat": 4,
  "vscode": {
   "interpreter": {
    "hash": "99c1a4d8383395b61034d24e6ba7046bc654bf940ed531e290ff2483e6d4138b"
   }
  }
 },
 "nbformat": 4,
 "nbformat_minor": 2
}
